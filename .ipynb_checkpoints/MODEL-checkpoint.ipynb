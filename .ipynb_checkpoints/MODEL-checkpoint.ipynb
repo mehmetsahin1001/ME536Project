{
 "cells": [
  {
   "cell_type": "code",
   "execution_count": 1,
   "metadata": {},
   "outputs": [
    {
     "name": "stderr",
     "output_type": "stream",
     "text": [
      "Using TensorFlow backend.\n"
     ]
    }
   ],
   "source": [
    "import tensorflow as tf\n",
    "import tensorflow_hub as hub\n",
    "import keras\n",
    "from skimage import io\n",
    "import skimage\n",
    "import matplotlib.pyplot as plt\n",
    "import numpy as np"
   ]
  },
  {
   "cell_type": "markdown",
   "metadata": {},
   "source": [
    "m = tf.keras.Sequential([\n",
    "    hub.KerasLayer(\"https://tfhub.dev/google/imagenet/mobilenet_v2_100_224/classification/4\")\n",
    "])\n",
    "m.build([None, 224, 224, 3])  # Batch input shape."
   ]
  },
  {
   "cell_type": "raw",
   "metadata": {},
   "source": [
    "m = tf.keras.Sequential([\n",
    "    hub.KerasLayer(\"https://tfhub.dev/google/tf2-preview/mobilenet_v2/feature_vector/4\", output_shape=[1280],\n",
    "                   trainable=False),  # Can be True, see below.\n",
    "])\n",
    "m.build([None, 224, 224, 3])  # Batch input shape."
   ]
  },
  {
   "cell_type": "markdown",
   "metadata": {},
   "source": [
    "m = tf.keras.Sequential([\n",
    "    hub.KerasLayer(\"https://tfhub.dev/google/imagenet/inception_v3/feature_vector/4\",\n",
    "                   trainable=False),  # Can be True, see below.\n",
    "])\n",
    "m.build([None, 299, 299, 3])  # Batch input shape.\n"
   ]
  },
  {
   "cell_type": "markdown",
   "metadata": {},
   "source": [
    "m = tf.keras.Sequential([\n",
    "    hub.KerasLayer(\"imagenet_inception_v3_feature_vector_4/\",\n",
    "                   trainable=False),  # Can be True, see below.\n",
    "])\n",
    "m.build([None, 299, 299, 3])  # Batch input shape.\n"
   ]
  },
  {
   "cell_type": "markdown",
   "metadata": {},
   "source": [
    "m = tf.keras.Sequential([\n",
    "    hub.KerasLayer(\"https://tfhub.dev/google/imagenet/mobilenet_v2_100_96/feature_vector/4\",\n",
    "                   trainable=False),  # Can be True, see below.\n",
    "])\n",
    "m.build([None, 96, 96, 3])  # Batch input shape."
   ]
  },
  {
   "cell_type": "code",
   "execution_count": 2,
   "metadata": {},
   "outputs": [],
   "source": [
    "m = tf.keras.Sequential([\n",
    "    hub.KerasLayer(\"experts_bit_r50x1_in21k_substance_1/\",\n",
    "                   trainable=False),  # Can be True, see below.\n",
    "])\n",
    "m.build([None, 299, 299, 3])  # Batch input shape.\n"
   ]
  },
  {
   "cell_type": "code",
   "execution_count": 3,
   "metadata": {},
   "outputs": [
    {
     "name": "stdout",
     "output_type": "stream",
     "text": [
      "Model: \"sequential\"\n",
      "_________________________________________________________________\n",
      "Layer (type)                 Output Shape              Param #   \n",
      "=================================================================\n",
      "keras_layer (KerasLayer)     multiple                  23500352  \n",
      "=================================================================\n",
      "Total params: 23,500,352\n",
      "Trainable params: 0\n",
      "Non-trainable params: 23,500,352\n",
      "_________________________________________________________________\n"
     ]
    }
   ],
   "source": [
    "m.summary()"
   ]
  },
  {
   "cell_type": "code",
   "execution_count": 4,
   "metadata": {},
   "outputs": [],
   "source": [
    "images = io.imread_collection(\"data/RGB/Resized_299/*.jpeg\")"
   ]
  },
  {
   "cell_type": "code",
   "execution_count": 5,
   "metadata": {},
   "outputs": [
    {
     "name": "stdout",
     "output_type": "stream",
     "text": [
      "['data/RGB/Resized_299/image_0.jpeg', 'data/RGB/Resized_299/image_1.jpeg', 'data/RGB/Resized_299/image_2.jpeg', 'data/RGB/Resized_299/image_3.jpeg', 'data/RGB/Resized_299/image_4.jpeg', 'data/RGB/Resized_299/image_5.jpeg', 'data/RGB/Resized_299/image_6.jpeg', 'data/RGB/Resized_299/image_7.jpeg', 'data/RGB/Resized_299/image_8.jpeg', 'data/RGB/Resized_299/image_9.jpeg', 'data/RGB/Resized_299/image_10.jpeg', 'data/RGB/Resized_299/image_11.jpeg', 'data/RGB/Resized_299/image_12.jpeg', 'data/RGB/Resized_299/image_13.jpeg', 'data/RGB/Resized_299/image_14.jpeg', 'data/RGB/Resized_299/image_15.jpeg', 'data/RGB/Resized_299/image_16.jpeg', 'data/RGB/Resized_299/image_17.jpeg', 'data/RGB/Resized_299/image_18.jpeg', 'data/RGB/Resized_299/image_19.jpeg', 'data/RGB/Resized_299/image_20.jpeg', 'data/RGB/Resized_299/image_21.jpeg', 'data/RGB/Resized_299/image_22.jpeg', 'data/RGB/Resized_299/image_23.jpeg', 'data/RGB/Resized_299/image_24.jpeg', 'data/RGB/Resized_299/image_25.jpeg', 'data/RGB/Resized_299/image_26.jpeg', 'data/RGB/Resized_299/image_27.jpeg', 'data/RGB/Resized_299/image_28.jpeg', 'data/RGB/Resized_299/image_29.jpeg', 'data/RGB/Resized_299/image_30.jpeg', 'data/RGB/Resized_299/image_31.jpeg', 'data/RGB/Resized_299/image_32.jpeg', 'data/RGB/Resized_299/image_33.jpeg', 'data/RGB/Resized_299/image_34.jpeg', 'data/RGB/Resized_299/image_35.jpeg', 'data/RGB/Resized_299/image_36.jpeg', 'data/RGB/Resized_299/image_37.jpeg', 'data/RGB/Resized_299/image_38.jpeg', 'data/RGB/Resized_299/image_39.jpeg', 'data/RGB/Resized_299/image_40.jpeg', 'data/RGB/Resized_299/image_41.jpeg', 'data/RGB/Resized_299/image_42.jpeg', 'data/RGB/Resized_299/image_43.jpeg', 'data/RGB/Resized_299/image_44.jpeg', 'data/RGB/Resized_299/image_45.jpeg', 'data/RGB/Resized_299/image_46.jpeg', 'data/RGB/Resized_299/image_47.jpeg', 'data/RGB/Resized_299/image_48.jpeg', 'data/RGB/Resized_299/image_49.jpeg', 'data/RGB/Resized_299/image_50.jpeg', 'data/RGB/Resized_299/image_51.jpeg', 'data/RGB/Resized_299/image_52.jpeg', 'data/RGB/Resized_299/image_53.jpeg']\n"
     ]
    }
   ],
   "source": [
    "print(images)"
   ]
  },
  {
   "cell_type": "code",
   "execution_count": 6,
   "metadata": {},
   "outputs": [],
   "source": [
    "image_set = []\n",
    "for image in images:\n",
    "    image_set.append(image.astype(\"float32\"))"
   ]
  },
  {
   "cell_type": "code",
   "execution_count": 7,
   "metadata": {},
   "outputs": [
    {
     "data": {
      "text/plain": [
       "list"
      ]
     },
     "execution_count": 7,
     "metadata": {},
     "output_type": "execute_result"
    }
   ],
   "source": [
    "type(image_set)"
   ]
  },
  {
   "cell_type": "code",
   "execution_count": 8,
   "metadata": {},
   "outputs": [],
   "source": [
    "image_set = np.array(image_set)"
   ]
  },
  {
   "cell_type": "code",
   "execution_count": 9,
   "metadata": {},
   "outputs": [
    {
     "name": "stdout",
     "output_type": "stream",
     "text": [
      "(54, 299, 299, 3)\n"
     ]
    }
   ],
   "source": [
    "print(image_set.shape)"
   ]
  },
  {
   "cell_type": "markdown",
   "metadata": {},
   "source": [
    "# Important Details\n",
    "- Float32 type images\n",
    "- Batch have to be np.array"
   ]
  },
  {
   "cell_type": "markdown",
   "metadata": {},
   "source": [
    "---"
   ]
  },
  {
   "cell_type": "markdown",
   "metadata": {},
   "source": [
    "### Some Euclidian Distance Application"
   ]
  },
  {
   "cell_type": "code",
   "execution_count": 10,
   "metadata": {},
   "outputs": [],
   "source": [
    "predictions = m.predict(image_set)"
   ]
  },
  {
   "cell_type": "code",
   "execution_count": 11,
   "metadata": {},
   "outputs": [
    {
     "name": "stdout",
     "output_type": "stream",
     "text": [
      "(54, 2048)\n"
     ]
    }
   ],
   "source": [
    "print(predictions.shape)"
   ]
  },
  {
   "cell_type": "raw",
   "metadata": {},
   "source": [
    "Norm_Calc(predictions[44],predictions[45])"
   ]
  },
  {
   "cell_type": "raw",
   "metadata": {},
   "source": [
    "standart = Standizer(predictions)"
   ]
  },
  {
   "cell_type": "raw",
   "metadata": {},
   "source": [
    "Norm_Calc(standart[1],standart[30])"
   ]
  },
  {
   "cell_type": "raw",
   "metadata": {},
   "source": [
    "def Norm_Calc(A, B):\n",
    "    length = len(A)\n",
    "    summ = 0\n",
    "    for i in range(length):\n",
    "        summ = summ + (A[i]-B[i])**2\n",
    "    \n",
    "    result = np.sqrt(summ)\n",
    "    print(f\"Norms between = {result}\")\n",
    "    \n",
    "    return result\n",
    "        \n",
    "    "
   ]
  },
  {
   "cell_type": "raw",
   "metadata": {},
   "source": [
    "def Standizer(liste):\n",
    "    for pre_list in liste:\n",
    "        max_val = max(pre_list)\n",
    "        for j,item in enumerate(pre_list):\n",
    "            pre_list[j]=item/max_val\n",
    "    \n",
    "    return liste\n",
    "            \n",
    "        "
   ]
  },
  {
   "cell_type": "markdown",
   "metadata": {},
   "source": [
    "----"
   ]
  },
  {
   "cell_type": "markdown",
   "metadata": {},
   "source": [
    "# PCA Application"
   ]
  },
  {
   "cell_type": "code",
   "execution_count": 12,
   "metadata": {},
   "outputs": [],
   "source": [
    "from sklearn.decomposition import PCA\n",
    "from mpl_toolkits.mplot3d import Axes3D"
   ]
  },
  {
   "cell_type": "code",
   "execution_count": 13,
   "metadata": {},
   "outputs": [],
   "source": [
    "X = predictions.copy()"
   ]
  },
  {
   "cell_type": "code",
   "execution_count": 14,
   "metadata": {},
   "outputs": [
    {
     "data": {
      "text/plain": [
       "PCA(n_components=2)"
      ]
     },
     "execution_count": 14,
     "metadata": {},
     "output_type": "execute_result"
    }
   ],
   "source": [
    "pca = PCA(n_components=2)\n",
    "pca.fit(X)"
   ]
  },
  {
   "cell_type": "code",
   "execution_count": 15,
   "metadata": {},
   "outputs": [
    {
     "name": "stdout",
     "output_type": "stream",
     "text": [
      "[0.38271227 0.35762894]\n",
      "[335.24637 324.074  ]\n"
     ]
    }
   ],
   "source": [
    "print(pca.explained_variance_ratio_)\n",
    "print(pca.singular_values_)"
   ]
  },
  {
   "cell_type": "code",
   "execution_count": 16,
   "metadata": {},
   "outputs": [],
   "source": [
    "X_pca = pca.transform(X)"
   ]
  },
  {
   "cell_type": "code",
   "execution_count": 17,
   "metadata": {},
   "outputs": [
    {
     "data": {
      "text/plain": [
       "(54, 2)"
      ]
     },
     "execution_count": 17,
     "metadata": {},
     "output_type": "execute_result"
    }
   ],
   "source": [
    "X_pca.shape"
   ]
  },
  {
   "cell_type": "raw",
   "metadata": {},
   "source": [
    "fig = plt.figure(1, figsize=(10,10))\n",
    "ax = Axes3D(fig)\n",
    "ax.scatter3D(X_pca[:,0], X_pca[:,1], X_pca[:,2])\n",
    "plt.show()"
   ]
  },
  {
   "cell_type": "code",
   "execution_count": 18,
   "metadata": {},
   "outputs": [
    {
     "data": {
      "text/plain": [
       "<matplotlib.collections.PathCollection at 0x7f0c8002aef0>"
      ]
     },
     "execution_count": 18,
     "metadata": {},
     "output_type": "execute_result"
    },
    {
     "data": {
      "image/png": "[encoded data removed]",
      "text/plain": [
       "<matplotlib.figure.Figure at 0x7f0c800ce390>"
      ]
     },
     "metadata": {},
     "output_type": "display_data"
    }
   ],
   "source": [
    "plt.scatter(X_pca[:,0], X_pca[:,1])"
   ]
  },
  {
   "cell_type": "markdown",
   "metadata": {},
   "source": [
    "# Dİmension Reduced Data for Clustering"
   ]
  },
  {
   "cell_type": "code",
   "execution_count": 41,
   "metadata": {},
   "outputs": [],
   "source": [
    "from sklearn.decomposition import PCA"
   ]
  },
  {
   "cell_type": "code",
   "execution_count": 42,
   "metadata": {},
   "outputs": [],
   "source": [
    "X = predictions.copy()"
   ]
  },
  {
   "cell_type": "code",
   "execution_count": 43,
   "metadata": {},
   "outputs": [
    {
     "data": {
      "text/plain": [
       "PCA(n_components=10)"
      ]
     },
     "execution_count": 43,
     "metadata": {},
     "output_type": "execute_result"
    }
   ],
   "source": [
    "pca = PCA(n_components=10)\n",
    "pca.fit(X)"
   ]
  },
  {
   "cell_type": "code",
   "execution_count": 44,
   "metadata": {},
   "outputs": [
    {
     "name": "stdout",
     "output_type": "stream",
     "text": [
      "[0.38271236 0.3576288  0.03080004 0.02475102 0.02066436 0.01741595\n",
      " 0.01466902 0.01192765 0.01063037 0.00957725]\n",
      "[335.2464   324.07394   95.105034  85.25589   77.900246  71.51571\n",
      "  65.63393   59.184143  55.873016  53.03326 ]\n"
     ]
    }
   ],
   "source": [
    "print(pca.explained_variance_ratio_)\n",
    "print(pca.singular_values_)"
   ]
  },
  {
   "cell_type": "code",
   "execution_count": 45,
   "metadata": {},
   "outputs": [],
   "source": [
    "X_cluster_data = pca.transform(X)"
   ]
  },
  {
   "cell_type": "code",
   "execution_count": 46,
   "metadata": {},
   "outputs": [
    {
     "data": {
      "text/plain": [
       "(54, 10)"
      ]
     },
     "execution_count": 46,
     "metadata": {},
     "output_type": "execute_result"
    }
   ],
   "source": [
    "X_cluster_data.shape"
   ]
  },
  {
   "cell_type": "markdown",
   "metadata": {},
   "source": [
    "-----"
   ]
  },
  {
   "cell_type": "markdown",
   "metadata": {},
   "source": [
    "### Let's use StandartScalar to improve PCA ( It is not useful.)"
   ]
  },
  {
   "cell_type": "markdown",
   "metadata": {},
   "source": [
    "from sklearn.preprocessing import StandardScaler"
   ]
  },
  {
   "cell_type": "markdown",
   "metadata": {},
   "source": [
    "scaler = StandardScaler()\n",
    "scaler.fit(X)\n",
    "X_scaled = scaler.transform(X)"
   ]
  },
  {
   "cell_type": "markdown",
   "metadata": {},
   "source": [
    "print(X_scaled.shape)"
   ]
  },
  {
   "cell_type": "markdown",
   "metadata": {},
   "source": [
    "scaled_pca = PCA(n_components=2)\n",
    "scaled_pca.fit(X_scaled)"
   ]
  },
  {
   "cell_type": "markdown",
   "metadata": {},
   "source": [
    "print(scaled_pca.explained_variance_ratio_)\n",
    "print(scaled_pca.singular_values_)"
   ]
  },
  {
   "cell_type": "markdown",
   "metadata": {},
   "source": [
    "X_scaled_pca = scaled_pca.transform(X)"
   ]
  },
  {
   "cell_type": "markdown",
   "metadata": {},
   "source": [
    "plt.scatter(X_scaled[:,0], X_scaled[:,1])"
   ]
  },
  {
   "cell_type": "markdown",
   "metadata": {},
   "source": [
    "### Let's use non-linear dimension reduction "
   ]
  },
  {
   "cell_type": "raw",
   "metadata": {},
   "source": [
    "from sklearn.decomposition import KernelPCA"
   ]
  },
  {
   "cell_type": "raw",
   "metadata": {},
   "source": [
    "transformer = KernelPCA(n_components=2, kernel=\"cosine\")\n",
    "transformer.fit(X)\n",
    "X_transformed = transformer.transform(X)"
   ]
  },
  {
   "cell_type": "raw",
   "metadata": {},
   "source": [
    "X_transformed.shape"
   ]
  },
  {
   "cell_type": "raw",
   "metadata": {},
   "source": [
    "plt.scatter(X_transformed[:,0], X_transformed[:,1])"
   ]
  },
  {
   "cell_type": "markdown",
   "metadata": {},
   "source": [
    "# Clustering"
   ]
  },
  {
   "cell_type": "code",
   "execution_count": 47,
   "metadata": {},
   "outputs": [],
   "source": [
    "from sklearn.cluster import KMeans"
   ]
  },
  {
   "cell_type": "code",
   "execution_count": 48,
   "metadata": {},
   "outputs": [],
   "source": [
    "active_cluster_number = 3"
   ]
  },
  {
   "cell_type": "code",
   "execution_count": 49,
   "metadata": {},
   "outputs": [
    {
     "data": {
      "text/plain": [
       "KMeans(n_clusters=3)"
      ]
     },
     "execution_count": 49,
     "metadata": {},
     "output_type": "execute_result"
    }
   ],
   "source": [
    "kmeans = KMeans(n_clusters=active_cluster_number)\n",
    "kmeans.fit(X_cluster_data)"
   ]
  },
  {
   "cell_type": "code",
   "execution_count": 50,
   "metadata": {},
   "outputs": [
    {
     "name": "stdout",
     "output_type": "stream",
     "text": [
      "[2 0 1 2 0 1 2 0 1 1 0 2 1 0 2 1 0 2 0 1 2 0 1 2 1 0 2 1 0 2 1 0 2 1 0 2 1\n",
      " 0 2 2 0 1 1 2 0 2 0 1 2 0 1 2 0 1]\n"
     ]
    }
   ],
   "source": [
    "label = kmeans.labels_\n",
    "print(label)"
   ]
  },
  {
   "cell_type": "raw",
   "metadata": {},
   "source": [
    "f , ax = plt.subplots()\n",
    "ax.scatter(X_pca[np.where(label == 0)][:,0], X_pca[np.where(label == 0)][:,1], edgecolors=\"r\")\n",
    "ax.scatter(X_pca[np.where(label == 1)][:,0], X_pca[np.where(label == 1)][:,1], cmap=\"gray\")\n",
    "ax.scatter(X_pca[np.where(label == 2)][:,0], X_pca[np.where(label == 2)][:,1], cmap=\"gray\")"
   ]
  },
  {
   "cell_type": "code",
   "execution_count": 51,
   "metadata": {},
   "outputs": [
    {
     "data": {
      "text/plain": [
       "(3, 10)"
      ]
     },
     "execution_count": 51,
     "metadata": {},
     "output_type": "execute_result"
    }
   ],
   "source": [
    "kmeans.cluster_centers_.shape"
   ]
  },
  {
   "cell_type": "code",
   "execution_count": 52,
   "metadata": {},
   "outputs": [],
   "source": [
    "dist = kmeans.transform(X_cluster_data)"
   ]
  },
  {
   "cell_type": "code",
   "execution_count": 53,
   "metadata": {},
   "outputs": [
    {
     "data": {
      "text/plain": [
       "array([113.37667 ,  23.524015, 113.494354], dtype=float32)"
      ]
     },
     "execution_count": 53,
     "metadata": {},
     "output_type": "execute_result"
    }
   ],
   "source": [
    "dist[50]"
   ]
  },
  {
   "cell_type": "code",
   "execution_count": 54,
   "metadata": {},
   "outputs": [],
   "source": [
    "min_dist = []\n",
    "for ele in dist:\n",
    "    min_dist.append(min(ele))"
   ]
  },
  {
   "cell_type": "code",
   "execution_count": 55,
   "metadata": {},
   "outputs": [
    {
     "name": "stdout",
     "output_type": "stream",
     "text": [
      "[31.583092, 26.916428, 26.738535, 29.855179, 30.39057, 20.017908, 31.40844, 27.056635, 33.338192, 16.876215, 36.041534, 26.218561, 10.235924, 25.806934, 31.208508, 21.89475, 26.939144, 34.31168, 24.261087, 23.280123, 20.303194, 30.961477, 16.279697, 32.626434, 22.186287, 31.089298, 18.007187, 26.900625, 28.504494, 20.105215, 12.850751, 30.003218, 38.34322, 16.439178, 23.64015, 29.753716, 11.322286, 26.050442, 33.60289, 58.361816, 31.781683, 11.218553, 16.089888, 30.221067, 52.816162, 32.191128, 43.91391, 11.634947, 31.722212, 18.289534, 23.524015, 33.793964, 22.395704, 10.290512]\n"
     ]
    }
   ],
   "source": [
    "print(min_dist)"
   ]
  },
  {
   "cell_type": "markdown",
   "metadata": {},
   "source": [
    "- We can say that, length have to be smaller than 13."
   ]
  },
  {
   "cell_type": "code",
   "execution_count": 56,
   "metadata": {},
   "outputs": [],
   "source": [
    "def IsMemberofCluster(feature_data, kmeans = kmeans):\n",
    "    '''\n",
    "    It checks, new data is member of any cluster or not?\n",
    "    '''\n",
    "    row,col = feature_data.shape\n",
    "    \n",
    "    # It begin with false. If it is member of any cluster, it will return true.\n",
    "    imc = []\n",
    "        \n",
    "    distances = kmeans.transform(feature_data)\n",
    "    print(distances)\n",
    "    \n",
    "    for vector in distances:\n",
    "        if np.all(vector > 40):\n",
    "            imc.append(False)\n",
    "            continue\n",
    "        imc.append(True)\n",
    "        \n",
    "    return imc"
   ]
  },
  {
   "cell_type": "markdown",
   "metadata": {},
   "source": [
    "-----"
   ]
  },
  {
   "cell_type": "markdown",
   "metadata": {},
   "source": [
    "imgs = io.imread_collection(\"test/test299/image_0.jpeg\")"
   ]
  },
  {
   "cell_type": "markdown",
   "metadata": {},
   "source": [
    "print(imgs)"
   ]
  },
  {
   "cell_type": "markdown",
   "metadata": {},
   "source": [
    "test_imgs = []\n",
    "for img in imgs:\n",
    "    test_imgs.append(img.astype(\"float32\"))"
   ]
  },
  {
   "cell_type": "markdown",
   "metadata": {},
   "source": [
    "test_imgs = np.array(test_imgs)\n",
    "test_imgs.shape"
   ]
  },
  {
   "cell_type": "markdown",
   "metadata": {},
   "source": [
    "test_features = m.predict(test_imgs)"
   ]
  },
  {
   "cell_type": "markdown",
   "metadata": {},
   "source": [
    "test_features[-1]"
   ]
  },
  {
   "cell_type": "markdown",
   "metadata": {},
   "source": [
    "pca.explained_variance_ratio_"
   ]
  },
  {
   "cell_type": "markdown",
   "metadata": {},
   "source": [
    "test_feature_data = pca.transform(test_features)"
   ]
  },
  {
   "cell_type": "markdown",
   "metadata": {},
   "source": [
    "print(test_features[-1])"
   ]
  },
  {
   "cell_type": "markdown",
   "metadata": {},
   "source": [
    "pca.explained_variance_ratio_"
   ]
  },
  {
   "cell_type": "markdown",
   "metadata": {},
   "source": [
    "label = IsMemberofCluster(test_feature_data)"
   ]
  },
  {
   "cell_type": "markdown",
   "metadata": {},
   "source": [
    "print(label)"
   ]
  },
  {
   "cell_type": "markdown",
   "metadata": {},
   "source": [
    "-----"
   ]
  },
  {
   "cell_type": "markdown",
   "metadata": {},
   "source": [
    "# Let's Add New Cluster"
   ]
  },
  {
   "cell_type": "code",
   "execution_count": 79,
   "metadata": {},
   "outputs": [],
   "source": [
    "### Main Add Cluster###\n",
    "\n",
    "# let's select new image that is not in any cluster.\n",
    "\n",
    "imag = io.imread(\"test/test299/image_13.jpeg\")\n",
    "imag = imag.astype(\"float32\")\n",
    "imag1 = skimage.transform.rotate(imag,90)\n",
    "imag2 = skimage.transform.rotate(imag,180)\n",
    "imag3 = skimage.transform.rotate(imag,270)\n",
    "# We add all versions of image in the list.\n",
    "image_list = [imag, imag1, imag2, imag3]"
   ]
  },
  {
   "cell_type": "code",
   "execution_count": 80,
   "metadata": {},
   "outputs": [
    {
     "data": {
      "text/plain": [
       "(4, 2048)"
      ]
     },
     "execution_count": 80,
     "metadata": {},
     "output_type": "execute_result"
    }
   ],
   "source": [
    "# Let's prepare list to model\n",
    "image_list = np.array(image_list)\n",
    "\n",
    "# Let's use model to extract feature vector\n",
    "image_features = m.predict(image_list)\n",
    "image_features.shape"
   ]
  },
  {
   "cell_type": "code",
   "execution_count": 81,
   "metadata": {},
   "outputs": [
    {
     "name": "stdout",
     "output_type": "stream",
     "text": [
      "[[102.8142   103.4034    63.14508   84.32927   73.54424 ]\n",
      " [103.0492   103.13074   71.771996  70.95848   74.946594]\n",
      " [103.9557   103.91859   63.74256   85.28576   73.57745 ]\n",
      " [104.11921  102.606834  70.84479   74.90334   73.14585 ]]\n",
      "[False, False, False, False]\n"
     ]
    }
   ],
   "source": [
    "# Now let's reduce their dimensions with PCA model.\n",
    "pca_image_features = pca.transform(image_features)\n",
    "\n",
    "# Lets check are they member of any cluster?\n",
    "flags = IsMemberofCluster(pca_image_features, kmeans=kmeans)\n",
    "print(flags)"
   ]
  },
  {
   "cell_type": "code",
   "execution_count": 82,
   "metadata": {},
   "outputs": [],
   "source": [
    "if np.any(flags):\n",
    "    # We found which ones can be in cluster.\n",
    "    # Now,  lets find which cluster include this image.\n",
    "    \n",
    "    index = flags.index(True)\n",
    "    print(index)\n",
    "    \n",
    "    cluster = kmeans.predict(pca_image_features[index].reshape(1,-1))\n",
    "    print(\"This image is in {} cluster\".format(cluster))"
   ]
  },
  {
   "cell_type": "code",
   "execution_count": 83,
   "metadata": {},
   "outputs": [
    {
     "name": "stdout",
     "output_type": "stream",
     "text": [
      "[0.3082187  0.28401914 0.12508932 0.04718757 0.03196357 0.02166627\n",
      " 0.01863806 0.01507985 0.01133727 0.01096605]\n",
      "[345.48834  331.64825  220.09694  135.18164  111.25807   91.60011\n",
      "  84.957985  76.41919   66.26101   65.1672  ]\n",
      "[2 0 1 2 0 1 2 0 1 1 0 2 1 0 2 1 0 2 0 1 2 0 1 2 1 0 2 1 0 2 1 0 2 1 0 2 1\n",
      " 0 2 2 0 1 1 2 0 2 0 1 2 0 1 2 0 1 5 5 5 5 3 3 3 3 4 4 4 4]\n"
     ]
    }
   ],
   "source": [
    "flags = np.array(flags)\n",
    "if np.all(flags == False):\n",
    "    # In this case, we have to think new cluster.\n",
    "    active_cluster_number = active_cluster_number + 1 \n",
    "    X = np.concatenate((X,image_features),axis=0)\n",
    "    X.shape\n",
    "    \n",
    "    # Firstly, update PCA.\n",
    "    pca = PCA(n_components=10)\n",
    "    pca.fit(X)\n",
    "    print(pca.explained_variance_ratio_)\n",
    "    print(pca.singular_values_)\n",
    "    X_cluster_data = pca.transform(X)\n",
    "    \n",
    "    # Fit new kmean.\n",
    "    kmeans = KMeans(n_clusters=active_cluster_number)\n",
    "    kmeans.fit(X_cluster_data)\n",
    "    label = kmeans.labels_\n",
    "    print(label)\n",
    "    \n",
    "    \n",
    "    # Find new cluster"
   ]
  },
  {
   "cell_type": "code",
   "execution_count": 84,
   "metadata": {},
   "outputs": [
    {
     "name": "stdout",
     "output_type": "stream",
     "text": [
      "6\n"
     ]
    }
   ],
   "source": [
    "print(active_cluster_number)"
   ]
  }
 ],
 "metadata": {
  "kernelspec": {
   "display_name": "Python 3",
   "language": "python",
   "name": "python3"
  },
  "language_info": {
   "codemirror_mode": {
    "name": "ipython",
    "version": 3
   },
   "file_extension": ".py",
   "mimetype": "text/x-python",
   "name": "python",
   "nbconvert_exporter": "python",
   "pygments_lexer": "ipython3",
   "version": "3.6.9"
  }
 },
 "nbformat": 4,
 "nbformat_minor": 4
}
