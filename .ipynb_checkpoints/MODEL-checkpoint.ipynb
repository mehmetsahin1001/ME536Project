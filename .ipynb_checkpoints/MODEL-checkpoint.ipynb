{
 "cells": [
  {
   "cell_type": "code",
   "execution_count": 1,
   "metadata": {},
   "outputs": [
    {
     "name": "stderr",
     "output_type": "stream",
     "text": [
      "Using TensorFlow backend.\n"
     ]
    },
    {
     "name": "stdout",
     "output_type": "stream",
     "text": [
      "pygame 2.0.0 (SDL 2.0.12, python 3.6.9)\n",
      "Hello from the pygame community. https://www.pygame.org/contribute.html\n"
     ]
    }
   ],
   "source": [
    "import tensorflow as tf\n",
    "import tensorflow_hub as hub\n",
    "import keras\n",
    "from skimage import io\n",
    "import skimage\n",
    "import matplotlib.pyplot as plt\n",
    "import numpy as np\n",
    "import functions"
   ]
  },
  {
   "cell_type": "markdown",
   "metadata": {},
   "source": [
    "m = tf.keras.Sequential([\n",
    "    hub.KerasLayer(\"https://tfhub.dev/google/imagenet/mobilenet_v2_100_224/classification/4\")\n",
    "])\n",
    "m.build([None, 224, 224, 3])  # Batch input shape."
   ]
  },
  {
   "cell_type": "markdown",
   "metadata": {},
   "source": [
    "m = tf.keras.Sequential([\n",
    "    hub.KerasLayer(\"https://tfhub.dev/google/tf2-preview/mobilenet_v2/feature_vector/4\", output_shape=[1280],\n",
    "                   trainable=False),  # Can be True, see below.\n",
    "])\n",
    "m.build([None, 224, 224, 3])  # Batch input shape."
   ]
  },
  {
   "cell_type": "markdown",
   "metadata": {},
   "source": [
    "m = tf.keras.Sequential([\n",
    "    hub.KerasLayer(\"https://tfhub.dev/google/imagenet/inception_v3/feature_vector/4\",\n",
    "                   trainable=False),  # Can be True, see below.\n",
    "])\n",
    "m.build([None, 299, 299, 3])  # Batch input shape.\n"
   ]
  },
  {
   "cell_type": "markdown",
   "metadata": {},
   "source": [
    "m = tf.keras.Sequential([\n",
    "    hub.KerasLayer(\"imagenet_inception_v3_feature_vector_4/\",\n",
    "                   trainable=False),  # Can be True, see below.\n",
    "])\n",
    "m.build([None, 299, 299, 3])  # Batch input shape.\n"
   ]
  },
  {
   "cell_type": "markdown",
   "metadata": {},
   "source": [
    "m = tf.keras.Sequential([\n",
    "    hub.KerasLayer(\"https://tfhub.dev/google/imagenet/mobilenet_v2_100_96/feature_vector/4\",\n",
    "                   trainable=False),  # Can be True, see below.\n",
    "])\n",
    "m.build([None, 96, 96, 3])  # Batch input shape."
   ]
  },
  {
   "cell_type": "code",
   "execution_count": 2,
   "metadata": {},
   "outputs": [],
   "source": [
    "m = tf.keras.Sequential([\n",
    "    hub.KerasLayer(\"experts_bit_r50x1_in21k_substance_1/\",\n",
    "                   trainable=False),  # Can be True, see below.\n",
    "])\n",
    "m.build([None, 299, 299, 3])  # Batch input shape.\n"
   ]
  },
  {
   "cell_type": "code",
   "execution_count": 3,
   "metadata": {},
   "outputs": [
    {
     "name": "stdout",
     "output_type": "stream",
     "text": [
      "About model: \n",
      "Model: \"sequential\"\n",
      "_________________________________________________________________\n",
      "Layer (type)                 Output Shape              Param #   \n",
      "=================================================================\n",
      "keras_layer (KerasLayer)     multiple                  23500352  \n",
      "=================================================================\n",
      "Total params: 23,500,352\n",
      "Trainable params: 0\n",
      "Non-trainable params: 23,500,352\n",
      "_________________________________________________________________\n",
      "None\n"
     ]
    }
   ],
   "source": [
    "print(\"About model: \")\n",
    "print(m.summary())"
   ]
  },
  {
   "cell_type": "code",
   "execution_count": 4,
   "metadata": {},
   "outputs": [],
   "source": [
    "images = io.imread_collection(\"data/RGB/Resized_299/*.jpeg\")"
   ]
  },
  {
   "cell_type": "code",
   "execution_count": 5,
   "metadata": {},
   "outputs": [],
   "source": [
    "#print(images)"
   ]
  },
  {
   "cell_type": "code",
   "execution_count": 6,
   "metadata": {},
   "outputs": [],
   "source": [
    "image_set = []\n",
    "for image in images:\n",
    "    image_set.append(image.astype(\"float32\"))"
   ]
  },
  {
   "cell_type": "code",
   "execution_count": 7,
   "metadata": {},
   "outputs": [],
   "source": [
    "image_set = np.array(image_set)"
   ]
  },
  {
   "cell_type": "code",
   "execution_count": 8,
   "metadata": {},
   "outputs": [
    {
     "name": "stdout",
     "output_type": "stream",
     "text": [
      "Image set shape = (54, 299, 299, 3)\n"
     ]
    }
   ],
   "source": [
    "print(\"Image set shape = {}\".format(image_set.shape))"
   ]
  },
  {
   "cell_type": "markdown",
   "metadata": {},
   "source": [
    "# Important Details\n",
    "- Float32 type images\n",
    "- Batch have to be np.array"
   ]
  },
  {
   "cell_type": "markdown",
   "metadata": {},
   "source": [
    "---"
   ]
  },
  {
   "cell_type": "markdown",
   "metadata": {},
   "source": [
    "### Some Euclidian Distance Application"
   ]
  },
  {
   "cell_type": "code",
   "execution_count": 9,
   "metadata": {},
   "outputs": [],
   "source": [
    "predictions = m.predict(image_set)"
   ]
  },
  {
   "cell_type": "code",
   "execution_count": 10,
   "metadata": {},
   "outputs": [
    {
     "name": "stdout",
     "output_type": "stream",
     "text": [
      "Prediction shape = (54, 2048)\n"
     ]
    }
   ],
   "source": [
    "print(\"Prediction shape = {}\".format(predictions.shape))"
   ]
  },
  {
   "cell_type": "markdown",
   "metadata": {},
   "source": [
    "----"
   ]
  },
  {
   "cell_type": "markdown",
   "metadata": {},
   "source": [
    "# PCA Application"
   ]
  },
  {
   "cell_type": "code",
   "execution_count": 11,
   "metadata": {},
   "outputs": [],
   "source": [
    "from sklearn.decomposition import PCA\n",
    "from mpl_toolkits.mplot3d import Axes3D"
   ]
  },
  {
   "cell_type": "code",
   "execution_count": 12,
   "metadata": {},
   "outputs": [],
   "source": [
    "X = predictions.copy()"
   ]
  },
  {
   "cell_type": "code",
   "execution_count": 122,
   "metadata": {},
   "outputs": [
    {
     "data": {
      "text/plain": [
       "PCA(n_components=2)"
      ]
     },
     "execution_count": 122,
     "metadata": {},
     "output_type": "execute_result"
    }
   ],
   "source": [
    "pca = PCA(n_components=2)\n",
    "pca.fit(X)"
   ]
  },
  {
   "cell_type": "code",
   "execution_count": 14,
   "metadata": {},
   "outputs": [
    {
     "name": "stdout",
     "output_type": "stream",
     "text": [
      "PCA variance ration = [0.38271236 0.35762894]\n"
     ]
    }
   ],
   "source": [
    "print(\"PCA variance ration = {}\".format(pca.explained_variance_ratio_))\n",
    "#print(pca.singular_values_)"
   ]
  },
  {
   "cell_type": "code",
   "execution_count": 123,
   "metadata": {},
   "outputs": [],
   "source": [
    "X_pca = pca.transform(X)"
   ]
  },
  {
   "cell_type": "code",
   "execution_count": 124,
   "metadata": {},
   "outputs": [
    {
     "data": {
      "text/plain": [
       "(66, 2)"
      ]
     },
     "execution_count": 124,
     "metadata": {},
     "output_type": "execute_result"
    }
   ],
   "source": [
    "X_pca.shape"
   ]
  },
  {
   "cell_type": "markdown",
   "metadata": {},
   "source": [
    "fig = plt.figure(1, figsize=(10,10))\n",
    "ax = Axes3D(fig)\n",
    "ax.scatter3D(X_pca[:,0], X_pca[:,1], X_pca[:,2])\n",
    "plt.show()"
   ]
  },
  {
   "cell_type": "code",
   "execution_count": 125,
   "metadata": {},
   "outputs": [
    {
     "data": {
      "text/plain": [
       "<matplotlib.collections.PathCollection at 0x7f3d46728c50>"
      ]
     },
     "execution_count": 125,
     "metadata": {},
     "output_type": "execute_result"
    },
    {
     "data": {
      "image/png": "[encoded data removed]",
      "text/plain": [
       "<matplotlib.figure.Figure at 0x7f3d466fedd8>"
      ]
     },
     "metadata": {},
     "output_type": "display_data"
    }
   ],
   "source": [
    "plt.scatter(X_pca[:,0], X_pca[:,1])"
   ]
  },
  {
   "cell_type": "markdown",
   "metadata": {},
   "source": [
    "# Dİmension Reduced Data for Clustering"
   ]
  },
  {
   "cell_type": "code",
   "execution_count": 92,
   "metadata": {},
   "outputs": [],
   "source": [
    "from sklearn.decomposition import PCA"
   ]
  },
  {
   "cell_type": "code",
   "execution_count": 93,
   "metadata": {},
   "outputs": [],
   "source": [
    "X = predictions.copy()"
   ]
  },
  {
   "cell_type": "code",
   "execution_count": 94,
   "metadata": {},
   "outputs": [
    {
     "data": {
      "text/plain": [
       "PCA(n_components=10)"
      ]
     },
     "execution_count": 94,
     "metadata": {},
     "output_type": "execute_result"
    }
   ],
   "source": [
    "pca = PCA(n_components=10)\n",
    "pca.fit(X)"
   ]
  },
  {
   "cell_type": "code",
   "execution_count": 95,
   "metadata": {},
   "outputs": [
    {
     "name": "stdout",
     "output_type": "stream",
     "text": [
      "PCA variance ratio = [0.38271245 0.3576288  0.03079999 0.024751   0.02066435 0.01741595\n",
      " 0.01466884 0.0119264  0.01063069 0.00957624]\n"
     ]
    }
   ],
   "source": [
    "print(\"PCA variance ratio = {}\".format(pca.explained_variance_ratio_))\n",
    "#print(pca.singular_values_)"
   ]
  },
  {
   "cell_type": "code",
   "execution_count": 96,
   "metadata": {},
   "outputs": [],
   "source": [
    "X_cluster_data = pca.transform(X)"
   ]
  },
  {
   "cell_type": "code",
   "execution_count": 97,
   "metadata": {},
   "outputs": [
    {
     "name": "stdout",
     "output_type": "stream",
     "text": [
      "Dimension Reduced Data shape = (54, 10)\n"
     ]
    }
   ],
   "source": [
    "print(\"Dimension Reduced Data shape = {}\".format(X_cluster_data.shape))"
   ]
  },
  {
   "cell_type": "markdown",
   "metadata": {},
   "source": [
    "-----"
   ]
  },
  {
   "cell_type": "markdown",
   "metadata": {},
   "source": [
    "### Let's use StandartScalar to improve PCA ( It is not useful.)"
   ]
  },
  {
   "cell_type": "markdown",
   "metadata": {},
   "source": [
    "from sklearn.preprocessing import StandardScaler"
   ]
  },
  {
   "cell_type": "markdown",
   "metadata": {},
   "source": [
    "scaler = StandardScaler()\n",
    "scaler.fit(X)\n",
    "X_scaled = scaler.transform(X)"
   ]
  },
  {
   "cell_type": "markdown",
   "metadata": {},
   "source": [
    "print(X_scaled.shape)"
   ]
  },
  {
   "cell_type": "markdown",
   "metadata": {},
   "source": [
    "scaled_pca = PCA(n_components=2)\n",
    "scaled_pca.fit(X_scaled)"
   ]
  },
  {
   "cell_type": "markdown",
   "metadata": {},
   "source": [
    "print(scaled_pca.explained_variance_ratio_)\n",
    "print(scaled_pca.singular_values_)"
   ]
  },
  {
   "cell_type": "markdown",
   "metadata": {},
   "source": [
    "X_scaled_pca = scaled_pca.transform(X)"
   ]
  },
  {
   "cell_type": "markdown",
   "metadata": {},
   "source": [
    "plt.scatter(X_scaled[:,0], X_scaled[:,1])"
   ]
  },
  {
   "cell_type": "markdown",
   "metadata": {},
   "source": [
    "### Let's use non-linear dimension reduction "
   ]
  },
  {
   "cell_type": "markdown",
   "metadata": {},
   "source": [
    "from sklearn.decomposition import KernelPCA"
   ]
  },
  {
   "cell_type": "markdown",
   "metadata": {},
   "source": [
    "transformer = KernelPCA(n_components=2, kernel=\"cosine\")\n",
    "transformer.fit(X)\n",
    "X_transformed = transformer.transform(X)"
   ]
  },
  {
   "cell_type": "markdown",
   "metadata": {},
   "source": [
    "X_transformed.shape"
   ]
  },
  {
   "cell_type": "markdown",
   "metadata": {},
   "source": [
    "plt.scatter(X_transformed[:,0], X_transformed[:,1])"
   ]
  },
  {
   "cell_type": "markdown",
   "metadata": {},
   "source": [
    "# Clustering"
   ]
  },
  {
   "cell_type": "code",
   "execution_count": 98,
   "metadata": {},
   "outputs": [],
   "source": [
    "from sklearn.cluster import KMeans"
   ]
  },
  {
   "cell_type": "code",
   "execution_count": 99,
   "metadata": {},
   "outputs": [
    {
     "name": "stdout",
     "output_type": "stream",
     "text": [
      "Active Cluster Number = 3\n"
     ]
    }
   ],
   "source": [
    "active_cluster_number = 3\n",
    "print(\"Active Cluster Number = {}\".format(active_cluster_number))"
   ]
  },
  {
   "cell_type": "code",
   "execution_count": 100,
   "metadata": {},
   "outputs": [
    {
     "data": {
      "text/plain": [
       "KMeans(n_clusters=3)"
      ]
     },
     "execution_count": 100,
     "metadata": {},
     "output_type": "execute_result"
    }
   ],
   "source": [
    "kmeans = KMeans(n_clusters=active_cluster_number)\n",
    "kmeans.fit(X_cluster_data)"
   ]
  },
  {
   "cell_type": "code",
   "execution_count": 101,
   "metadata": {},
   "outputs": [
    {
     "name": "stdout",
     "output_type": "stream",
     "text": [
      "[0 1 2 0 1 2 0 1 2 2 1 0 2 1 0 2 1 0 1 2 0 1 2 0 2 1 0 2 1 0 2 1 0 2 1 0 2\n",
      " 1 0 0 1 2 2 0 1 0 1 2 0 1 2 0 1 2]\n"
     ]
    }
   ],
   "source": [
    "label = kmeans.labels_\n",
    "print(label)"
   ]
  },
  {
   "cell_type": "markdown",
   "metadata": {},
   "source": [
    "f , ax = plt.subplots()\n",
    "ax.scatter(X_pca[np.where(label == 0)][:,0], X_pca[np.where(label == 0)][:,1], edgecolors=\"r\")\n",
    "ax.scatter(X_pca[np.where(label == 1)][:,0], X_pca[np.where(label == 1)][:,1], cmap=\"gray\")\n",
    "ax.scatter(X_pca[np.where(label == 2)][:,0], X_pca[np.where(label == 2)][:,1], cmap=\"gray\")"
   ]
  },
  {
   "cell_type": "code",
   "execution_count": 28,
   "metadata": {},
   "outputs": [],
   "source": [
    "#kmeans.cluster_centers_.shape"
   ]
  },
  {
   "cell_type": "code",
   "execution_count": 102,
   "metadata": {},
   "outputs": [],
   "source": [
    "dist = kmeans.transform(X_cluster_data)"
   ]
  },
  {
   "cell_type": "code",
   "execution_count": 103,
   "metadata": {},
   "outputs": [],
   "source": [
    "min_dist = []\n",
    "for ele in dist:\n",
    "    min_dist.append(min(ele))"
   ]
  },
  {
   "cell_type": "code",
   "execution_count": 104,
   "metadata": {},
   "outputs": [
    {
     "name": "stdout",
     "output_type": "stream",
     "text": [
      "Estimated Circular Distance = 36.00535202026367\n"
     ]
    }
   ],
   "source": [
    "min_dist.sort()\n",
    "#print(min_dist)\n",
    "length = min_dist[-5]\n",
    "print(\"Estimated Circular Distance = {}\".format(length))"
   ]
  },
  {
   "cell_type": "markdown",
   "metadata": {},
   "source": [
    "- We can say that, length have to be smaller than 13."
   ]
  },
  {
   "cell_type": "code",
   "execution_count": 105,
   "metadata": {},
   "outputs": [],
   "source": [
    "def IsMemberofCluster(feature_data, kmeans = kmeans):\n",
    "    '''\n",
    "    It checks, new data is member of any cluster or not?\n",
    "    '''\n",
    "    row,col = feature_data.shape\n",
    "    \n",
    "    # It begin with false. If it is member of any cluster, it will return true.\n",
    "    imc = []\n",
    "        \n",
    "    distances = kmeans.transform(feature_data)\n",
    "    #print(distances)\n",
    "    \n",
    "    for vector in distances:\n",
    "        if np.all(vector > length):\n",
    "            imc.append(False)\n",
    "            continue\n",
    "        imc.append(True)\n",
    "        \n",
    "    return imc"
   ]
  },
  {
   "cell_type": "markdown",
   "metadata": {},
   "source": [
    "-----"
   ]
  },
  {
   "cell_type": "markdown",
   "metadata": {},
   "source": [
    "imgs = io.imread_collection(\"test/test299/image_0.jpeg\")"
   ]
  },
  {
   "cell_type": "markdown",
   "metadata": {},
   "source": [
    "print(imgs)"
   ]
  },
  {
   "cell_type": "markdown",
   "metadata": {},
   "source": [
    "test_imgs = []\n",
    "for img in imgs:\n",
    "    test_imgs.append(img.astype(\"float32\"))"
   ]
  },
  {
   "cell_type": "markdown",
   "metadata": {},
   "source": [
    "test_imgs = np.array(test_imgs)\n",
    "test_imgs.shape"
   ]
  },
  {
   "cell_type": "markdown",
   "metadata": {},
   "source": [
    "test_features = m.predict(test_imgs)"
   ]
  },
  {
   "cell_type": "markdown",
   "metadata": {},
   "source": [
    "test_features[-1]"
   ]
  },
  {
   "cell_type": "markdown",
   "metadata": {},
   "source": [
    "pca.explained_variance_ratio_"
   ]
  },
  {
   "cell_type": "markdown",
   "metadata": {},
   "source": [
    "test_feature_data = pca.transform(test_features)"
   ]
  },
  {
   "cell_type": "markdown",
   "metadata": {},
   "source": [
    "print(test_features[-1])"
   ]
  },
  {
   "cell_type": "markdown",
   "metadata": {},
   "source": [
    "pca.explained_variance_ratio_"
   ]
  },
  {
   "cell_type": "markdown",
   "metadata": {},
   "source": [
    "label = IsMemberofCluster(test_feature_data)"
   ]
  },
  {
   "cell_type": "markdown",
   "metadata": {},
   "source": [
    "print(label)"
   ]
  },
  {
   "cell_type": "markdown",
   "metadata": {},
   "source": [
    "-----"
   ]
  },
  {
   "cell_type": "markdown",
   "metadata": {},
   "source": [
    "# Let's Add New Cluster"
   ]
  },
  {
   "cell_type": "code",
   "execution_count": 113,
   "metadata": {},
   "outputs": [
    {
     "data": {
      "text/plain": [
       "<matplotlib.image.AxesImage at 0x7f3d5c070518>"
      ]
     },
     "execution_count": 113,
     "metadata": {},
     "output_type": "execute_result"
    },
    {
     "data": {
      "image/png": "[encoded data removed]",
      "text/plain": [
       "<matplotlib.figure.Figure at 0x7f3d5c270908>"
      ]
     },
     "metadata": {},
     "output_type": "display_data"
    }
   ],
   "source": [
    "imag_list = functions.Grab_and_parse()\n",
    "plt.imshow(imag_list[0])"
   ]
  },
  {
   "cell_type": "code",
   "execution_count": 114,
   "metadata": {},
   "outputs": [],
   "source": [
    "### Main Add Cluster###\n",
    "\n",
    "# let's select new image that is not in any cluster.\n",
    "\n",
    "#imag = io.imread(\"test/test299/image_6.jpeg\")\n",
    "imag = imag_list[0]\n",
    "imag = imag.astype(\"float32\")\n",
    "imag1 = skimage.transform.rotate(imag,90)\n",
    "imag2 = skimage.transform.rotate(imag,180)\n",
    "imag3 = skimage.transform.rotate(imag,270)\n",
    "# We add all versions of image in the list.\n",
    "image_list = [imag, imag1, imag2, imag3]"
   ]
  },
  {
   "cell_type": "code",
   "execution_count": 115,
   "metadata": {},
   "outputs": [],
   "source": [
    "# Let's prepare list to model\n",
    "image_list = np.array(image_list)\n",
    "# Let's use model to extract feature vector\n",
    "image_features = m.predict(image_list)\n",
    "#image_features.shape"
   ]
  },
  {
   "cell_type": "code",
   "execution_count": 116,
   "metadata": {},
   "outputs": [
    {
     "name": "stdout",
     "output_type": "stream",
     "text": [
      "Cluster flags = [False, True, True, True]\n"
     ]
    }
   ],
   "source": [
    "# Now let's reduce their dimensions with PCA model.\n",
    "pca_image_features = pca.transform(image_features)\n",
    "\n",
    "# Lets check are they member of any cluster?\n",
    "flags = IsMemberofCluster(pca_image_features, kmeans=kmeans)\n",
    "print(\"Cluster flags = {}\".format(flags))"
   ]
  },
  {
   "cell_type": "code",
   "execution_count": 121,
   "metadata": {},
   "outputs": [
    {
     "name": "stdout",
     "output_type": "stream",
     "text": [
      "1\n",
      "This image is in [0] cluster\n"
     ]
    }
   ],
   "source": [
    "if np.any(flags):\n",
    "    # We found which ones can be in cluster.\n",
    "    # Now,  lets find which cluster include this image.\n",
    "    \n",
    "    index = flags.index(True)\n",
    "    print(index)\n",
    "    \n",
    "    cluster = kmeans.predict(pca_image_features[index].reshape(1,-1))\n",
    "    print(\"This image is in {} cluster\".format(cluster))\n",
    "    \n",
    "    l = list(kmeans.labels_)\n",
    "    times = l.count(cluster)\n",
    "    #print(times)\n",
    "    if times < 10:\n",
    "        X = np.concatenate((X,image_features),axis=0)\n",
    "        print(\"It is in Cluster but still new!\")\n",
    "        pca = PCA(n_components=10)\n",
    "        pca.fit(X)\n",
    "        X_cluster_data = pca.transform(X)\n",
    "        times = times + 4\n",
    "        kmeans = KMeans(n_clusters=active_cluster_number)\n",
    "        kmeans.fit(X_cluster_data)\n",
    "        "
   ]
  },
  {
   "cell_type": "code",
   "execution_count": 111,
   "metadata": {},
   "outputs": [
    {
     "name": "stdout",
     "output_type": "stream",
     "text": [
      "Cluster label = [1 2 0 1 2 0 1 2 0 0 2 1 0 2 1 0 2 1 2 0 1 2 0 1 0 2 1 0 2 1 0 2 1 0 2 1 0\n",
      " 2 1 1 2 0 0 1 2 1 2 0 1 2 0 1 2 0 3 3 3 3]\n"
     ]
    }
   ],
   "source": [
    "flags = np.array(flags)\n",
    "if np.all(flags == False):\n",
    "    # In this case, we have to think new cluster.\n",
    "    active_cluster_number = active_cluster_number + 1 \n",
    "    X = np.concatenate((X,image_features),axis=0)\n",
    "    #X.shape\n",
    "    \n",
    "    # Firstly, update PCA.\n",
    "    pca = PCA(n_components=10)\n",
    "    pca.fit(X)\n",
    "    #print(pca.explained_variance_ratio_)\n",
    "    #print(pca.singular_values_)\n",
    "    X_cluster_data = pca.transform(X)\n",
    "    \n",
    "    # Fit new kmean.\n",
    "    kmeans = KMeans(n_clusters=active_cluster_number)\n",
    "    kmeans.fit(X_cluster_data)\n",
    "    label = kmeans.labels_\n",
    "    print(\"Cluster label = {}\".format(label))\n",
    "    \n",
    "    \n",
    "    # Find new cluster"
   ]
  },
  {
   "cell_type": "code",
   "execution_count": 112,
   "metadata": {},
   "outputs": [
    {
     "name": "stdout",
     "output_type": "stream",
     "text": [
      "Active Cluster Number = 4\n"
     ]
    }
   ],
   "source": [
    "print(\"Active Cluster Number = {}\".format(active_cluster_number))"
   ]
  }
 ],
 "metadata": {
  "kernelspec": {
   "display_name": "Python 3",
   "language": "python",
   "name": "python3"
  },
  "language_info": {
   "codemirror_mode": {
    "name": "ipython",
    "version": 3
   },
   "file_extension": ".py",
   "mimetype": "text/x-python",
   "name": "python",
   "nbconvert_exporter": "python",
   "pygments_lexer": "ipython3",
   "version": "3.6.9"
  }
 },
 "nbformat": 4,
 "nbformat_minor": 4
}
