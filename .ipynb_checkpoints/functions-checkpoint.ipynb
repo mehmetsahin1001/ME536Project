{
 "cells": [
  {
   "cell_type": "code",
   "execution_count": 2,
   "metadata": {},
   "outputs": [
    {
     "name": "stdout",
     "output_type": "stream",
     "text": [
      "pygame 2.0.0 (SDL 2.0.12, python 3.6.9)\n",
      "Hello from the pygame community. https://www.pygame.org/contribute.html\n"
     ]
    }
   ],
   "source": [
    "import pygame\n",
    "import pygame.camera\n",
    "from time import sleep\n",
    "import matplotlib.pyplot as plt\n",
    "import numpy as np\n",
    "import skimage\n",
    "from skimage import morphology\n",
    "from skimage.measure import label, regionprops\n",
    "import matplotlib.patches as mpatches"
   ]
  },
  {
   "cell_type": "code",
   "execution_count": 3,
   "metadata": {},
   "outputs": [],
   "source": [
    "pygame.camera.init()\n",
    "#print(pygame.camera.list_cameras()) #Camera detected or not\n",
    "cam = pygame.camera.Camera(\"/dev/video2\",(1920,1080))"
   ]
  },
  {
   "cell_type": "code",
   "execution_count": 4,
   "metadata": {},
   "outputs": [],
   "source": [
    "def Grab_photo():\n",
    "    cam.start()\n",
    "    sleep(1)\n",
    "    img = cam.get_image()\n",
    "    pygame.image.save(img,\"xxx.jpg\")\n",
    "    sleep(1)\n",
    "    cam.stop()\n",
    "\n",
    "    im = skimage.io.imread(\"xxx.jpg\")\n",
    "    cropped = im[150:850,200:1600]\n",
    "    return cropped"
   ]
  },
  {
   "cell_type": "code",
   "execution_count": 13,
   "metadata": {},
   "outputs": [],
   "source": [
    "def Image_parser(image):\n",
    "    gray = skimage.color.rgb2gray(image)\n",
    "    imgBin = gray < skimage.filters.threshold_otsu(gray)\n",
    "    imgBin = morphology.closing(imgBin, np.ones(shape=(20,20)))\n",
    "    boxes = BoxFounder(imgBin, image, Shower_Mode=False)\n",
    "    image_list = CropImage(image, boxes)\n",
    "    return image_list\n",
    "    "
   ]
  },
  {
   "cell_type": "code",
   "execution_count": 6,
   "metadata": {},
   "outputs": [],
   "source": [
    "def BoxFounder(imgBin, rescaled_image, Shower_Mode=False):\n",
    "    label_image = label(imgBin)\n",
    "    labeled_image = skimage.color.label2rgb(label_image, image= rescaled_image)\n",
    "    if Shower_Mode:\n",
    "        f, ax = plt.subplots(nrows=1, ncols=1)\n",
    "    boxes = []\n",
    "    for region in regionprops(label_image):\n",
    "        if region.area > 50:\n",
    "            minr, minc, maxr, maxc = region.bbox\n",
    "            box = (minr, minc, maxr, maxc)\n",
    "            boxes.append(box)\n",
    "            if Shower_Mode:\n",
    "                rect = mpatches.Rectangle((minc,minr), maxc-minc, maxr-minr, edgecolor=\"green\", linewidth=2)\n",
    "                ax.add_patch(rect)\n",
    "    \n",
    "    if Shower_Mode:\n",
    "        ax.imshow(rescaled_image, cmap=\"gray\")\n",
    "    \n",
    "    return boxes\n",
    "    "
   ]
  },
  {
   "cell_type": "code",
   "execution_count": 7,
   "metadata": {},
   "outputs": [],
   "source": [
    "def CropImage(rescaled_image, boxes):\n",
    "    CroppedImages = []\n",
    "    for box in boxes:\n",
    "        minr, minc, maxr, maxc = box\n",
    "        cropped_image = rescaled_image[minr:maxr+10,minc-10:maxc+10,:]\n",
    "        CroppedImages.append(cropped_image)\n",
    "    \n",
    "    #for i,image in enumerate(CroppedImages):\n",
    "    #    skimage.io.imsave(\"data/RGB/o_{}.jpg\".format(i), image)\n",
    "        \n",
    "    #print(len(CroppedImages))\n",
    "    return CroppedImages\n",
    "    \n",
    "        "
   ]
  },
  {
   "cell_type": "code",
   "execution_count": 24,
   "metadata": {},
   "outputs": [],
   "source": [
    "def Grab_and_parse():\n",
    "    img = Grab_photo()\n",
    "    #img = skimage.io.imread(\"data/a10.jpg\")\n",
    "    img_list = Image_parser(img)\n",
    "    #f , ax = plt.subplots(nrows=1, ncols=len(img_list), figsize = (10,10))\n",
    "    #for i, image in enumerate(img_list):\n",
    "        #ax[i].imshow(image)\n",
    "    return img_list"
   ]
  }
 ],
 "metadata": {
  "kernelspec": {
   "display_name": "Python 3",
   "language": "python",
   "name": "python3"
  },
  "language_info": {
   "codemirror_mode": {
    "name": "ipython",
    "version": 3
   },
   "file_extension": ".py",
   "mimetype": "text/x-python",
   "name": "python",
   "nbconvert_exporter": "python",
   "pygments_lexer": "ipython3",
   "version": "3.6.9"
  }
 },
 "nbformat": 4,
 "nbformat_minor": 4
}
