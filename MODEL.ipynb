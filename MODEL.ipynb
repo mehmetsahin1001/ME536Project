{
 "cells": [
  {
   "cell_type": "code",
   "execution_count": 2,
   "metadata": {},
   "outputs": [],
   "source": [
    "import tensorflow as tf\n",
    "import tensorflow_hub as hub\n",
    "import keras\n",
    "from skimage import io\n",
    "import skimage\n",
    "import matplotlib.pyplot as plt\n",
    "import numpy as np"
   ]
  },
  {
   "cell_type": "markdown",
   "metadata": {},
   "source": [
    "m = tf.keras.Sequential([\n",
    "    hub.KerasLayer(\"https://tfhub.dev/google/imagenet/mobilenet_v2_100_224/classification/4\")\n",
    "])\n",
    "m.build([None, 224, 224, 3])  # Batch input shape."
   ]
  },
  {
   "cell_type": "raw",
   "metadata": {},
   "source": [
    "m = tf.keras.Sequential([\n",
    "    hub.KerasLayer(\"https://tfhub.dev/google/tf2-preview/mobilenet_v2/feature_vector/4\", output_shape=[1280],\n",
    "                   trainable=False),  # Can be True, see below.\n",
    "])\n",
    "m.build([None, 224, 224, 3])  # Batch input shape."
   ]
  },
  {
   "cell_type": "code",
   "execution_count": null,
   "metadata": {},
   "outputs": [],
   "source": [
    "m = tf.keras.Sequential([\n",
    "    hub.KerasLayer(\"https://tfhub.dev/google/imagenet/inception_v3/feature_vector/4\",\n",
    "                   trainable=False),  # Can be True, see below.\n",
    "])\n",
    "m.build([None, 299, 299, 3])  # Batch input shape.\n"
   ]
  },
  {
   "cell_type": "code",
   "execution_count": 10,
   "metadata": {},
   "outputs": [],
   "source": [
    "m = tf.keras.Sequential([\n",
    "    hub.KerasLayer(\"imagenet_inception_v3_feature_vector_4/\",\n",
    "                   trainable=False),  # Can be True, see below.\n",
    "])\n",
    "m.build([None, 299, 299, 3])  # Batch input shape.\n"
   ]
  },
  {
   "cell_type": "code",
   "execution_count": 40,
   "metadata": {},
   "outputs": [],
   "source": [
    "m = tf.keras.Sequential([\n",
    "    hub.KerasLayer(\"https://tfhub.dev/google/imagenet/mobilenet_v2_100_96/feature_vector/4\",\n",
    "                   trainable=False),  # Can be True, see below.\n",
    "])\n",
    "m.build([None, 96, 96, 3])  # Batch input shape."
   ]
  },
  {
   "cell_type": "code",
   "execution_count": 62,
   "metadata": {},
   "outputs": [],
   "source": [
    "m = tf.keras.Sequential([\n",
    "    hub.KerasLayer(\"experts_bit_r50x1_in21k_substance_1/\",\n",
    "                   trainable=False),  # Can be True, see below.\n",
    "])\n",
    "m.build([None, 299, 299, 3])  # Batch input shape.\n"
   ]
  },
  {
   "cell_type": "code",
   "execution_count": 63,
   "metadata": {},
   "outputs": [
    {
     "name": "stdout",
     "output_type": "stream",
     "text": [
      "Model: \"sequential_6\"\n",
      "_________________________________________________________________\n",
      "Layer (type)                 Output Shape              Param #   \n",
      "=================================================================\n",
      "keras_layer_6 (KerasLayer)   multiple                  23500352  \n",
      "=================================================================\n",
      "Total params: 23,500,352\n",
      "Trainable params: 0\n",
      "Non-trainable params: 23,500,352\n",
      "_________________________________________________________________\n"
     ]
    }
   ],
   "source": [
    "m.summary()"
   ]
  },
  {
   "cell_type": "code",
   "execution_count": 64,
   "metadata": {},
   "outputs": [],
   "source": [
    "images = io.imread_collection(\"data/RGB/Resized_299/*.jpeg\")"
   ]
  },
  {
   "cell_type": "code",
   "execution_count": 65,
   "metadata": {},
   "outputs": [
    {
     "name": "stdout",
     "output_type": "stream",
     "text": [
      "['data/RGB/Resized_299/image_0.jpeg', 'data/RGB/Resized_299/image_1.jpeg', 'data/RGB/Resized_299/image_2.jpeg', 'data/RGB/Resized_299/image_3.jpeg', 'data/RGB/Resized_299/image_4.jpeg', 'data/RGB/Resized_299/image_5.jpeg', 'data/RGB/Resized_299/image_6.jpeg', 'data/RGB/Resized_299/image_7.jpeg', 'data/RGB/Resized_299/image_8.jpeg', 'data/RGB/Resized_299/image_9.jpeg', 'data/RGB/Resized_299/image_10.jpeg', 'data/RGB/Resized_299/image_11.jpeg', 'data/RGB/Resized_299/image_12.jpeg', 'data/RGB/Resized_299/image_13.jpeg', 'data/RGB/Resized_299/image_14.jpeg', 'data/RGB/Resized_299/image_15.jpeg', 'data/RGB/Resized_299/image_16.jpeg', 'data/RGB/Resized_299/image_17.jpeg', 'data/RGB/Resized_299/image_18.jpeg', 'data/RGB/Resized_299/image_19.jpeg', 'data/RGB/Resized_299/image_20.jpeg', 'data/RGB/Resized_299/image_21.jpeg', 'data/RGB/Resized_299/image_22.jpeg', 'data/RGB/Resized_299/image_23.jpeg', 'data/RGB/Resized_299/image_24.jpeg', 'data/RGB/Resized_299/image_25.jpeg', 'data/RGB/Resized_299/image_26.jpeg', 'data/RGB/Resized_299/image_27.jpeg', 'data/RGB/Resized_299/image_28.jpeg', 'data/RGB/Resized_299/image_29.jpeg', 'data/RGB/Resized_299/image_30.jpeg', 'data/RGB/Resized_299/image_31.jpeg', 'data/RGB/Resized_299/image_32.jpeg', 'data/RGB/Resized_299/image_33.jpeg', 'data/RGB/Resized_299/image_34.jpeg', 'data/RGB/Resized_299/image_35.jpeg', 'data/RGB/Resized_299/image_36.jpeg', 'data/RGB/Resized_299/image_37.jpeg', 'data/RGB/Resized_299/image_38.jpeg', 'data/RGB/Resized_299/image_39.jpeg', 'data/RGB/Resized_299/image_40.jpeg', 'data/RGB/Resized_299/image_41.jpeg', 'data/RGB/Resized_299/image_42.jpeg', 'data/RGB/Resized_299/image_43.jpeg', 'data/RGB/Resized_299/image_44.jpeg', 'data/RGB/Resized_299/image_45.jpeg', 'data/RGB/Resized_299/image_46.jpeg', 'data/RGB/Resized_299/image_47.jpeg', 'data/RGB/Resized_299/image_48.jpeg', 'data/RGB/Resized_299/image_49.jpeg', 'data/RGB/Resized_299/image_50.jpeg', 'data/RGB/Resized_299/image_51.jpeg', 'data/RGB/Resized_299/image_52.jpeg', 'data/RGB/Resized_299/image_53.jpeg']\n"
     ]
    }
   ],
   "source": [
    "print(images)"
   ]
  },
  {
   "cell_type": "code",
   "execution_count": 66,
   "metadata": {},
   "outputs": [],
   "source": [
    "image_set = []\n",
    "for image in images:\n",
    "    image_set.append(image.astype(\"float32\"))"
   ]
  },
  {
   "cell_type": "code",
   "execution_count": 67,
   "metadata": {},
   "outputs": [
    {
     "data": {
      "text/plain": [
       "list"
      ]
     },
     "execution_count": 67,
     "metadata": {},
     "output_type": "execute_result"
    }
   ],
   "source": [
    "type(image_set)"
   ]
  },
  {
   "cell_type": "code",
   "execution_count": 68,
   "metadata": {},
   "outputs": [],
   "source": [
    "image_set = np.array(image_set)"
   ]
  },
  {
   "cell_type": "code",
   "execution_count": 69,
   "metadata": {},
   "outputs": [
    {
     "name": "stdout",
     "output_type": "stream",
     "text": [
      "(54, 299, 299, 3)\n"
     ]
    }
   ],
   "source": [
    "print(image_set.shape)"
   ]
  },
  {
   "cell_type": "markdown",
   "metadata": {},
   "source": [
    "# Important Details\n",
    "- Float32 type images\n",
    "- Batch have to be np.array"
   ]
  },
  {
   "cell_type": "markdown",
   "metadata": {},
   "source": [
    "---"
   ]
  },
  {
   "cell_type": "markdown",
   "metadata": {},
   "source": [
    "### Some Euclidian Distance Application"
   ]
  },
  {
   "cell_type": "code",
   "execution_count": 70,
   "metadata": {},
   "outputs": [],
   "source": [
    "predictions = m.predict(image_set)"
   ]
  },
  {
   "cell_type": "code",
   "execution_count": 71,
   "metadata": {},
   "outputs": [
    {
     "name": "stdout",
     "output_type": "stream",
     "text": [
      "(54, 2048)\n"
     ]
    }
   ],
   "source": [
    "print(predictions.shape)"
   ]
  },
  {
   "cell_type": "raw",
   "metadata": {},
   "source": [
    "Norm_Calc(predictions[44],predictions[45])"
   ]
  },
  {
   "cell_type": "raw",
   "metadata": {},
   "source": [
    "standart = Standizer(predictions)"
   ]
  },
  {
   "cell_type": "raw",
   "metadata": {},
   "source": [
    "Norm_Calc(standart[1],standart[30])"
   ]
  },
  {
   "cell_type": "raw",
   "metadata": {},
   "source": [
    "def Norm_Calc(A, B):\n",
    "    length = len(A)\n",
    "    summ = 0\n",
    "    for i in range(length):\n",
    "        summ = summ + (A[i]-B[i])**2\n",
    "    \n",
    "    result = np.sqrt(summ)\n",
    "    print(f\"Norms between = {result}\")\n",
    "    \n",
    "    return result\n",
    "        \n",
    "    "
   ]
  },
  {
   "cell_type": "raw",
   "metadata": {},
   "source": [
    "def Standizer(liste):\n",
    "    for pre_list in liste:\n",
    "        max_val = max(pre_list)\n",
    "        for j,item in enumerate(pre_list):\n",
    "            pre_list[j]=item/max_val\n",
    "    \n",
    "    return liste\n",
    "            \n",
    "        "
   ]
  },
  {
   "cell_type": "markdown",
   "metadata": {},
   "source": [
    "----"
   ]
  },
  {
   "cell_type": "markdown",
   "metadata": {},
   "source": [
    "# PCA Application"
   ]
  },
  {
   "cell_type": "code",
   "execution_count": 18,
   "metadata": {},
   "outputs": [],
   "source": [
    "from sklearn.decomposition import PCA\n",
    "from mpl_toolkits.mplot3d import Axes3D"
   ]
  },
  {
   "cell_type": "code",
   "execution_count": 72,
   "metadata": {},
   "outputs": [],
   "source": [
    "X = predictions.copy()"
   ]
  },
  {
   "cell_type": "code",
   "execution_count": 73,
   "metadata": {},
   "outputs": [
    {
     "data": {
      "text/plain": [
       "PCA(n_components=2)"
      ]
     },
     "execution_count": 73,
     "metadata": {},
     "output_type": "execute_result"
    }
   ],
   "source": [
    "pca = PCA(n_components=2)\n",
    "pca.fit(X)"
   ]
  },
  {
   "cell_type": "code",
   "execution_count": 74,
   "metadata": {},
   "outputs": [
    {
     "name": "stdout",
     "output_type": "stream",
     "text": [
      "[0.38271236 0.3576288 ]\n",
      "[335.2464  324.07394]\n"
     ]
    }
   ],
   "source": [
    "print(pca.explained_variance_ratio_)\n",
    "print(pca.singular_values_)"
   ]
  },
  {
   "cell_type": "code",
   "execution_count": 75,
   "metadata": {},
   "outputs": [],
   "source": [
    "X_pca = pca.transform(X)"
   ]
  },
  {
   "cell_type": "code",
   "execution_count": 76,
   "metadata": {},
   "outputs": [
    {
     "data": {
      "text/plain": [
       "(54, 2)"
      ]
     },
     "execution_count": 76,
     "metadata": {},
     "output_type": "execute_result"
    }
   ],
   "source": [
    "X_pca.shape"
   ]
  },
  {
   "cell_type": "raw",
   "metadata": {},
   "source": [
    "fig = plt.figure(1, figsize=(10,10))\n",
    "ax = Axes3D(fig)\n",
    "ax.scatter3D(X_pca[:,0], X_pca[:,1], X_pca[:,2])\n",
    "plt.show()"
   ]
  },
  {
   "cell_type": "code",
   "execution_count": 77,
   "metadata": {},
   "outputs": [
    {
     "data": {
      "text/plain": [
       "<matplotlib.collections.PathCollection at 0x7f29e9255ba8>"
      ]
     },
     "execution_count": 77,
     "metadata": {},
     "output_type": "execute_result"
    },
    {
     "data": {
      "image/png": "[encoded data removed]",
      "text/plain": [
       "<matplotlib.figure.Figure at 0x7f29e929a0f0>"
      ]
     },
     "metadata": {},
     "output_type": "display_data"
    }
   ],
   "source": [
    "plt.scatter(X_pca[:,0], X_pca[:,1])"
   ]
  },
  {
   "cell_type": "markdown",
   "metadata": {},
   "source": [
    "# Dİmension Reduced Data for Clustering"
   ]
  },
  {
   "cell_type": "code",
   "execution_count": 78,
   "metadata": {},
   "outputs": [],
   "source": [
    "from sklearn.decomposition import PCA"
   ]
  },
  {
   "cell_type": "code",
   "execution_count": 79,
   "metadata": {},
   "outputs": [],
   "source": [
    "X = predictions.copy()"
   ]
  },
  {
   "cell_type": "code",
   "execution_count": 80,
   "metadata": {},
   "outputs": [
    {
     "data": {
      "text/plain": [
       "PCA(n_components=10)"
      ]
     },
     "execution_count": 80,
     "metadata": {},
     "output_type": "execute_result"
    }
   ],
   "source": [
    "pca = PCA(n_components=10)\n",
    "pca.fit(X)"
   ]
  },
  {
   "cell_type": "code",
   "execution_count": 81,
   "metadata": {},
   "outputs": [
    {
     "name": "stdout",
     "output_type": "stream",
     "text": [
      "[0.38271227 0.35762885 0.03080001 0.02475098 0.02066435 0.01741598\n",
      " 0.01466921 0.0119272  0.01063052 0.00957737]\n",
      "[335.24637  324.07397   95.104996  85.25582   77.90024   71.51576\n",
      "  65.63435   59.183025  55.873398  53.033592]\n"
     ]
    }
   ],
   "source": [
    "print(pca.explained_variance_ratio_)\n",
    "print(pca.singular_values_)"
   ]
  },
  {
   "cell_type": "code",
   "execution_count": 82,
   "metadata": {},
   "outputs": [],
   "source": [
    "X_cluster_data = pca.transform(X)"
   ]
  },
  {
   "cell_type": "code",
   "execution_count": 83,
   "metadata": {},
   "outputs": [
    {
     "data": {
      "text/plain": [
       "(54, 10)"
      ]
     },
     "execution_count": 83,
     "metadata": {},
     "output_type": "execute_result"
    }
   ],
   "source": [
    "X_cluster_data.shape"
   ]
  },
  {
   "cell_type": "code",
   "execution_count": 84,
   "metadata": {},
   "outputs": [
    {
     "data": {
      "text/plain": [
       "array([-17.105156 ,  60.43527  , -20.359007 ,  -7.7780914,  12.6688385,\n",
       "        -4.5736275,   3.1973453,  -4.240553 ,  -2.6781251,  15.174748 ],\n",
       "      dtype=float32)"
      ]
     },
     "execution_count": 84,
     "metadata": {},
     "output_type": "execute_result"
    }
   ],
   "source": [
    "X_cluster_data[4]"
   ]
  },
  {
   "cell_type": "markdown",
   "metadata": {},
   "source": [
    "-----"
   ]
  },
  {
   "cell_type": "markdown",
   "metadata": {},
   "source": [
    "### Let's use StandartScalar to improve PCA ( It is not useful.)"
   ]
  },
  {
   "cell_type": "raw",
   "metadata": {},
   "source": [
    "from sklearn.preprocessing import StandardScaler"
   ]
  },
  {
   "cell_type": "raw",
   "metadata": {},
   "source": [
    "scaler = StandardScaler()\n",
    "scaler.fit(X)\n",
    "X_scaled = scaler.transform(X)"
   ]
  },
  {
   "cell_type": "raw",
   "metadata": {},
   "source": [
    "print(X_scaled)"
   ]
  },
  {
   "cell_type": "raw",
   "metadata": {},
   "source": [
    "scaled_pca = PCA(n_components=2)\n",
    "scaled_pca.fit(X_scaled)"
   ]
  },
  {
   "cell_type": "raw",
   "metadata": {},
   "source": [
    "print(scaled_pca.explained_variance_ratio_)\n",
    "print(scaled_pca.singular_values_)"
   ]
  },
  {
   "cell_type": "markdown",
   "metadata": {},
   "source": [
    "X_scaled_pca = scaled_pca.transform(X)"
   ]
  },
  {
   "cell_type": "raw",
   "metadata": {},
   "source": [
    "plt.scatter(X_scaled_pca[:29,0], X_scaled_pca[:29,1], cmap=\"gray\")\n",
    "plt.scatter(X_scaled_pca[29:48,0], X_scaled_pca[29:48,1], cmap=\"gray\")\n",
    "plt.scatter(X_scaled_pca[48:,0], X_scaled_pca[48:,1], cmap=\"gray\")"
   ]
  },
  {
   "cell_type": "markdown",
   "metadata": {},
   "source": [
    "### Let's use non-linear dimension reduction "
   ]
  },
  {
   "cell_type": "raw",
   "metadata": {},
   "source": [
    "from sklearn.decomposition import KernelPCA"
   ]
  },
  {
   "cell_type": "raw",
   "metadata": {},
   "source": [
    "transformer = KernelPCA(n_components=2, kernel=\"cosine\")\n",
    "transformer.fit(X)\n",
    "X_transformed = transformer.transform(X)"
   ]
  },
  {
   "cell_type": "raw",
   "metadata": {},
   "source": [
    "X_transformed.shape"
   ]
  },
  {
   "cell_type": "raw",
   "metadata": {},
   "source": [
    "plt.scatter(X_transformed[:,0], X_transformed[:,1])"
   ]
  },
  {
   "cell_type": "markdown",
   "metadata": {},
   "source": [
    "# Clustering"
   ]
  },
  {
   "cell_type": "code",
   "execution_count": 85,
   "metadata": {},
   "outputs": [],
   "source": [
    "from sklearn.cluster import KMeans"
   ]
  },
  {
   "cell_type": "code",
   "execution_count": 86,
   "metadata": {},
   "outputs": [
    {
     "data": {
      "text/plain": [
       "KMeans(n_clusters=3)"
      ]
     },
     "execution_count": 86,
     "metadata": {},
     "output_type": "execute_result"
    }
   ],
   "source": [
    "kmeans = KMeans(n_clusters=3)\n",
    "kmeans.fit(X_cluster_data)"
   ]
  },
  {
   "cell_type": "code",
   "execution_count": 87,
   "metadata": {},
   "outputs": [
    {
     "name": "stdout",
     "output_type": "stream",
     "text": [
      "[0 2 1 0 2 1 0 2 1 1 2 0 1 2 0 1 2 0 2 1 0 2 1 0 1 2 0 1 2 0 1 2 0 1 2 0 1\n",
      " 2 0 0 2 1 1 0 2 0 2 1 0 2 1 0 2 1]\n"
     ]
    }
   ],
   "source": [
    "label = kmeans.labels_\n",
    "print(label)"
   ]
  },
  {
   "cell_type": "raw",
   "metadata": {},
   "source": [
    "f , ax = plt.subplots()\n",
    "ax.scatter(X_pca[np.where(label == 0)][:,0], X_pca[np.where(label == 0)][:,1], edgecolors=\"r\")\n",
    "ax.scatter(X_pca[np.where(label == 1)][:,0], X_pca[np.where(label == 1)][:,1], cmap=\"gray\")\n",
    "ax.scatter(X_pca[np.where(label == 2)][:,0], X_pca[np.where(label == 2)][:,1], cmap=\"gray\")"
   ]
  },
  {
   "cell_type": "code",
   "execution_count": 88,
   "metadata": {},
   "outputs": [
    {
     "data": {
      "text/plain": [
       "(3, 10)"
      ]
     },
     "execution_count": 88,
     "metadata": {},
     "output_type": "execute_result"
    }
   ],
   "source": [
    "kmeans.cluster_centers_.shape"
   ]
  },
  {
   "cell_type": "code",
   "execution_count": 89,
   "metadata": {},
   "outputs": [],
   "source": [
    "dist = kmeans.transform(X_cluster_data)"
   ]
  },
  {
   "cell_type": "code",
   "execution_count": 94,
   "metadata": {},
   "outputs": [
    {
     "data": {
      "text/plain": [
       "array([113.5026  ,  23.563786, 113.384766], dtype=float32)"
      ]
     },
     "execution_count": 94,
     "metadata": {},
     "output_type": "execute_result"
    }
   ],
   "source": [
    "dist[50]"
   ]
  },
  {
   "cell_type": "code",
   "execution_count": 90,
   "metadata": {},
   "outputs": [],
   "source": [
    "min_dist = []\n",
    "for ele in dist:\n",
    "    min_dist.append(min(ele))"
   ]
  },
  {
   "cell_type": "code",
   "execution_count": 95,
   "metadata": {},
   "outputs": [
    {
     "name": "stdout",
     "output_type": "stream",
     "text": [
      "[31.586538, 26.958513, 26.735565, 29.83499, 30.407324, 20.019047, 31.38257, 27.069984, 33.281246, 16.872175, 36.003574, 26.278776, 10.33189, 25.783941, 31.186075, 21.850971, 26.931389, 34.29987, 24.240803, 23.277395, 20.307766, 30.98069, 16.189085, 32.64486, 22.158897, 31.087177, 18.075714, 26.842003, 28.497211, 20.10785, 12.885152, 30.00848, 38.315254, 16.47047, 23.65197, 29.853333, 11.312709, 26.05501, 33.602062, 58.382103, 31.768167, 11.237835, 16.096151, 30.232395, 52.818882, 32.192368, 43.91218, 11.652618, 31.715647, 18.288803, 23.563786, 33.75507, 22.420593, 10.285094]\n"
     ]
    }
   ],
   "source": [
    "print(min_dist)"
   ]
  },
  {
   "cell_type": "markdown",
   "metadata": {},
   "source": [
    "- We can say that, length have to be smaller than 13."
   ]
  },
  {
   "cell_type": "code",
   "execution_count": 96,
   "metadata": {},
   "outputs": [],
   "source": [
    "def IsMemberofCluster(feature_data, kmeans = kmeans):\n",
    "    '''\n",
    "    It checks, new data is member of any cluster or not?\n",
    "    '''\n",
    "    row,col = feature_data.shape\n",
    "    \n",
    "    # It begin with false. If it is member of any cluster, it will return true.\n",
    "    imc = []\n",
    "        \n",
    "    distances = kmeans.transform(feature_data)\n",
    "    print(distances)\n",
    "    \n",
    "    for vector in distances:\n",
    "        if np.all(vector > 40):\n",
    "            imc.append(False)\n",
    "            continue\n",
    "        imc.append(True)\n",
    "        \n",
    "    return imc"
   ]
  },
  {
   "cell_type": "code",
   "execution_count": 101,
   "metadata": {},
   "outputs": [],
   "source": [
    "imgs = io.imread_collection(\"test/test299/*.jpeg\")"
   ]
  },
  {
   "cell_type": "code",
   "execution_count": 102,
   "metadata": {},
   "outputs": [
    {
     "name": "stdout",
     "output_type": "stream",
     "text": [
      "['test/test299/image_0.jpeg', 'test/test299/image_1.jpeg', 'test/test299/image_2.jpeg', 'test/test299/image_3.jpeg', 'test/test299/image_4.jpeg', 'test/test299/image_5.jpeg', 'test/test299/image_6.jpeg', 'test/test299/image_7.jpeg', 'test/test299/image_8.jpeg', 'test/test299/image_9.jpeg', 'test/test299/image_10.jpeg', 'test/test299/image_11.jpeg', 'test/test299/image_12.jpeg', 'test/test299/image_13.jpeg', 'test/test299/image_14.jpeg']\n"
     ]
    }
   ],
   "source": [
    "print(imgs)"
   ]
  },
  {
   "cell_type": "code",
   "execution_count": 103,
   "metadata": {},
   "outputs": [],
   "source": [
    "test_imgs = []\n",
    "for img in imgs:\n",
    "    test_imgs.append(img.astype(\"float32\"))"
   ]
  },
  {
   "cell_type": "code",
   "execution_count": 104,
   "metadata": {},
   "outputs": [
    {
     "data": {
      "text/plain": [
       "(15, 299, 299, 3)"
      ]
     },
     "execution_count": 104,
     "metadata": {},
     "output_type": "execute_result"
    }
   ],
   "source": [
    "test_imgs = np.array(test_imgs)\n",
    "test_imgs.shape"
   ]
  },
  {
   "cell_type": "code",
   "execution_count": 105,
   "metadata": {},
   "outputs": [],
   "source": [
    "test_features = m.predict(test_imgs)"
   ]
  },
  {
   "cell_type": "code",
   "execution_count": 106,
   "metadata": {},
   "outputs": [
    {
     "data": {
      "text/plain": [
       "array([0.02164895, 0.        , 0.8214061 , ..., 0.2881187 , 2.5742025 ,\n",
       "       0.0784117 ], dtype=float32)"
      ]
     },
     "execution_count": 106,
     "metadata": {},
     "output_type": "execute_result"
    }
   ],
   "source": [
    "test_features[-1]"
   ]
  },
  {
   "cell_type": "code",
   "execution_count": 107,
   "metadata": {},
   "outputs": [
    {
     "data": {
      "text/plain": [
       "array([0.38271227, 0.35762885, 0.03080001, 0.02475098, 0.02066435,\n",
       "       0.01741598, 0.01466921, 0.0119272 , 0.01063052, 0.00957737],\n",
       "      dtype=float32)"
      ]
     },
     "execution_count": 107,
     "metadata": {},
     "output_type": "execute_result"
    }
   ],
   "source": [
    "pca.explained_variance_ratio_"
   ]
  },
  {
   "cell_type": "code",
   "execution_count": 108,
   "metadata": {},
   "outputs": [],
   "source": [
    "test_feature_data = pca.transform(test_features)"
   ]
  },
  {
   "cell_type": "code",
   "execution_count": 109,
   "metadata": {},
   "outputs": [
    {
     "name": "stdout",
     "output_type": "stream",
     "text": [
      "[0.02164895 0.         0.8214061  ... 0.2881187  2.5742025  0.0784117 ]\n"
     ]
    }
   ],
   "source": [
    "print(test_features[-1])"
   ]
  },
  {
   "cell_type": "code",
   "execution_count": 110,
   "metadata": {},
   "outputs": [
    {
     "data": {
      "text/plain": [
       "array([0.38271227, 0.35762885, 0.03080001, 0.02475098, 0.02066435,\n",
       "       0.01741598, 0.01466921, 0.0119272 , 0.01063052, 0.00957737],\n",
       "      dtype=float32)"
      ]
     },
     "execution_count": 110,
     "metadata": {},
     "output_type": "execute_result"
    }
   ],
   "source": [
    "pca.explained_variance_ratio_"
   ]
  },
  {
   "cell_type": "code",
   "execution_count": 111,
   "metadata": {},
   "outputs": [
    {
     "name": "stdout",
     "output_type": "stream",
     "text": [
      "[[ 86.59669   75.919205  54.265106]\n",
      " [ 87.42893   78.0523    60.118267]\n",
      " [ 85.98633   79.42747   47.841328]\n",
      " [ 82.88507   74.73998   54.796913]\n",
      " [ 85.94252   76.970535  58.56051 ]\n",
      " [ 94.22423   37.587685  93.13344 ]\n",
      " [ 91.89607   40.103535  88.773834]\n",
      " [ 94.61603   34.148567  91.35463 ]\n",
      " [ 93.17061   33.71371   93.58443 ]\n",
      " [ 96.48648   32.210014  94.61304 ]\n",
      " [ 51.024265  89.8938    96.48967 ]\n",
      " [ 52.044125  95.30315  101.33499 ]\n",
      " [ 52.932663  92.6334    98.58799 ]\n",
      " [ 51.803425  96.961174  96.29036 ]\n",
      " [ 52.482365  91.22961   89.42978 ]]\n"
     ]
    }
   ],
   "source": [
    "label = IsMemberofCluster(test_feature_data)"
   ]
  },
  {
   "cell_type": "code",
   "execution_count": 112,
   "metadata": {},
   "outputs": [
    {
     "name": "stdout",
     "output_type": "stream",
     "text": [
      "[False, False, False, False, False, True, False, True, True, True, False, False, False, False, False]\n"
     ]
    }
   ],
   "source": [
    "print(label)"
   ]
  },
  {
   "cell_type": "markdown",
   "metadata": {},
   "source": [
    "-----"
   ]
  },
  {
   "cell_type": "markdown",
   "metadata": {},
   "source": [
    "# Let's Add New Cluster"
   ]
  },
  {
   "cell_type": "code",
   "execution_count": 157,
   "metadata": {},
   "outputs": [],
   "source": [
    "### Main Add Cluster###\n",
    "\n",
    "# let's select new image that is not in any cluster.\n",
    "\n",
    "imag = io.imread(\"test/test299/image_11.jpeg\")\n",
    "imag = imag.astype(\"float32\")\n",
    "imag1 = skimage.transform.rotate(imag,90)\n",
    "imag2 = skimage.transform.rotate(imag,180)\n",
    "imag3 = skimage.transform.rotate(imag,270)\n",
    "# We add all versions of image in the list.\n",
    "image_list = [imag, imag1, imag2, imag3]"
   ]
  },
  {
   "cell_type": "code",
   "execution_count": 158,
   "metadata": {},
   "outputs": [
    {
     "data": {
      "text/plain": [
       "(4, 2048)"
      ]
     },
     "execution_count": 158,
     "metadata": {},
     "output_type": "execute_result"
    }
   ],
   "source": [
    "# Let's prepare list to model\n",
    "image_list = np.array(image_list)\n",
    "\n",
    "# Let's use model to extract feature vector\n",
    "image_features = m.predict(image_list)\n",
    "image_features.shape"
   ]
  },
  {
   "cell_type": "code",
   "execution_count": 159,
   "metadata": {},
   "outputs": [
    {
     "name": "stdout",
     "output_type": "stream",
     "text": [
      "[[100.14493  105.864334  60.415073  83.8575  ]\n",
      " [101.62233  105.17668   58.68776   83.95134 ]\n",
      " [100.626274 105.18971   60.29047   83.4413  ]\n",
      " [101.26881  104.75979   57.576088  83.58736 ]]\n",
      "[False, False, False, False]\n"
     ]
    }
   ],
   "source": [
    "# Now let's reduce their dimensions with PCA model.\n",
    "pca_image_features = pca.transform(image_features)\n",
    "\n",
    "# Lets check are they member of any cluster?\n",
    "flags = IsMemberofCluster(pca_image_features, kmeans=kmeans)\n",
    "print(flags)"
   ]
  },
  {
   "cell_type": "code",
   "execution_count": 160,
   "metadata": {},
   "outputs": [],
   "source": [
    "if np.any(flags):\n",
    "    # We found which ones can be in cluster.\n",
    "    # Now,  lets find which cluster include this image.\n",
    "    \n",
    "    index = flags.index(True)\n",
    "    print(index)\n",
    "    \n",
    "    cluster = kmeans.predict(pca_image_features[index].reshape(1,-1))\n",
    "    print(\"This image is in {} cluster\".format(cluster))"
   ]
  },
  {
   "cell_type": "code",
   "execution_count": 161,
   "metadata": {},
   "outputs": [
    {
     "data": {
      "text/plain": [
       "(62, 2048)"
      ]
     },
     "execution_count": 161,
     "metadata": {},
     "output_type": "execute_result"
    }
   ],
   "source": [
    "X = np.concatenate((X,image_features),axis=0)\n",
    "X.shape"
   ]
  },
  {
   "cell_type": "code",
   "execution_count": 162,
   "metadata": {},
   "outputs": [
    {
     "name": "stdout",
     "output_type": "stream",
     "text": [
      "[0.3218796  0.30115217 0.11606267 0.05149746 0.02378617 0.019811\n",
      " 0.01643434 0.01216828 0.0117343  0.00954093]\n",
      "[342.28995  331.0857   205.53874  136.91162   93.04858   84.91817\n",
      "  77.34346   66.55213   65.35457   58.930866]\n",
      "[1 2 0 1 2 0 1 2 0 0 2 1 0 2 1 0 2 1 2 0 1 2 0 1 0 2 1 0 2 1 0 2 1 0 2 1 0\n",
      " 2 1 1 2 0 0 1 2 1 2 0 1 2 0 1 2 0 4 4 4 4 3 3 3 3]\n"
     ]
    }
   ],
   "source": [
    "flags = np.array(flags)\n",
    "if np.all(flags == False):\n",
    "    # In this case, we have to think new cluster.\n",
    "    \n",
    "    \n",
    "    # Firstly, update PCA.\n",
    "    pca = PCA(n_components=10)\n",
    "    pca.fit(X)\n",
    "    print(pca.explained_variance_ratio_)\n",
    "    print(pca.singular_values_)\n",
    "    X_cluster_data = pca.transform(X)\n",
    "    \n",
    "    # Fit new kmean.\n",
    "    kmeans = KMeans(n_clusters=5)\n",
    "    kmeans.fit(X_cluster_data)\n",
    "    label = kmeans.labels_\n",
    "    print(label)\n",
    "    \n",
    "    \n",
    "    # Find new cluster"
   ]
  }
 ],
 "metadata": {
  "kernelspec": {
   "display_name": "Python 3",
   "language": "python",
   "name": "python3"
  },
  "language_info": {
   "codemirror_mode": {
    "name": "ipython",
    "version": 3
   },
   "file_extension": ".py",
   "mimetype": "text/x-python",
   "name": "python",
   "nbconvert_exporter": "python",
   "pygments_lexer": "ipython3",
   "version": "3.6.9"
  }
 },
 "nbformat": 4,
 "nbformat_minor": 4
}
